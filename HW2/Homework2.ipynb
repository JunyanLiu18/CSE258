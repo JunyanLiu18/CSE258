{
 "cells": [
  {
   "cell_type": "code",
   "execution_count": 54,
   "metadata": {},
   "outputs": [],
   "source": [
    "import numpy\n",
    "import urllib\n",
    "import random\n",
    "import math\n",
    "from matplotlib import pyplot as plt\n",
    "import scipy.optimize\n",
    "from scipy.io import arff\n",
    "import random\n",
    "from sklearn import svm\n",
    "from sklearn import linear_model\n",
    "from sklearn.decomposition import PCA\n",
    "import warnings\n",
    "warnings.filterwarnings('ignore')\n",
    "\n",
    "f = open(\"/Users/apple/Desktop/CSE258/HW2/5year.arff\", 'r')\n",
    "\n",
    "while not '@data' in f.readline():\n",
    "    pass\n",
    "dataset = []\n",
    "for l in f:\n",
    "    if '?' in l: # Missing entry\n",
    "        continue\n",
    "    l = l.split(',')\n",
    "    values = [1] + [float(x) for x in l]\n",
    "    values[-1] = values[-1] > 0 # Convert to bool\n",
    "    dataset.append(values)\n",
    "X = [values[:-1] for values in dataset]\n",
    "y = [values[-1] for values in dataset]"
   ]
  },
  {
   "cell_type": "markdown",
   "metadata": {},
   "source": [
    "# 1"
   ]
  },
  {
   "cell_type": "code",
   "execution_count": 55,
   "metadata": {},
   "outputs": [
    {
     "name": "stdout",
     "output_type": "stream",
     "text": [
      "Accuracy = 0.9663477400197954\n",
      "Balanced error rate = 0.4810749837661251\n"
     ]
    }
   ],
   "source": [
    "def accuracy(X, y):\n",
    "    pred = mod.predict(X)\n",
    "    correct = pred == y\n",
    "    accuracy = sum(pred == y)/len(y)\n",
    "    return accuracy\n",
    "\n",
    "def BER(pred, y):\n",
    "    TP = sum([(p and l) for (p,l) in zip(pred, y)])\n",
    "    FN = sum([(not p and l) for (p,l) in zip(pred, y)])\n",
    "    TN = sum([(not p and not l) for (p,l) in zip(pred, y)])\n",
    "    FP = sum([(p and not l) for (p,l) in zip(pred, y)])\n",
    "    TPR = TP / (TP + FN)\n",
    "    TNR = TN / (TN + FP)\n",
    "    BER = 1 - 1/2 * (TPR + TNR)\n",
    "    return BER\n",
    "\n",
    "\n",
    "mod = linear_model.LogisticRegression(C = 1.0, solver='liblinear')\n",
    "mod.fit(X, y)\n",
    "pred = mod.predict(X)\n",
    "print(\"Accuracy = \" + str(accuracy(X, y)))\n",
    "print(\"Balanced error rate = \" + str(BER(pred, y)))\n",
    "\n",
    "\n",
    "# TP_ = numpy.logical_and(pred, y)\n",
    "# FP_ = numpy.logical_and(pred, numpy.logical_not(y))\n",
    "# TN_ = numpy.logical_and(numpy.logical_not(pred), numpy.logical_not(y))\n",
    "# FN_ = numpy.logical_and(numpy.logical_not(pred), y)\n",
    "# TPR_ = sum(TP_) / (sum(TP_) + sum(FN_))\n",
    "# TNR_ = sum(TN_) / (sum(TN_) + sum(FP_))\n",
    "# BER_ = 1 - 1/2 * (TPR_ + TNR_)\n",
    "# print(\"Balanced error rate = \" + str(BER_))"
   ]
  },
  {
   "cell_type": "markdown",
   "metadata": {},
   "source": [
    "# 3. "
   ]
  },
  {
   "cell_type": "code",
   "execution_count": 116,
   "metadata": {},
   "outputs": [],
   "source": [
    "random.shuffle(dataset)"
   ]
  },
  {
   "cell_type": "code",
   "execution_count": 117,
   "metadata": {},
   "outputs": [
    {
     "name": "stdout",
     "output_type": "stream",
     "text": [
      "Train Accuracy = 0.7795379537953795\n",
      "Valid Accuracy = 0.7704485488126649\n",
      "Test Accuracy = 0.7546174142480211\n",
      "Train Balanced Error Rate = 0.17906435669593557\n",
      "Valid Balanced Error Rate = 0.20260278024253187\n",
      "Test Balanced Error Rate = 0.26989917413994013\n"
     ]
    }
   ],
   "source": [
    "X = [values[:-1] for values in dataset]\n",
    "y = [values[-1] for values in dataset]\n",
    "N = len(X)\n",
    "X_train = X[:N//2]\n",
    "X_valid = X[N//2:3*N//4]\n",
    "X_test = X[3*N//4:]\n",
    "y_train = y[:N//2]\n",
    "y_valid = y[N//2:3*N//4]\n",
    "y_test = y[3*N//4:]\n",
    "\n",
    "mod = linear_model.LogisticRegression(solver='liblinear', class_weight='balanced')\n",
    "mod.fit(X_train, y_train)\n",
    "pred_train = mod.predict(X_train)\n",
    "pred_test  = mod.predict(X_test)\n",
    "pred_valid = mod.predict(X_valid)\n",
    "\n",
    "print(\"Train Accuracy = \" + str(accuracy(X_train, y_train)))\n",
    "print(\"Valid Accuracy = \" + str(accuracy(X_valid, y_valid)))\n",
    "print(\"Test Accuracy = \" + str(accuracy(X_test, y_test)))\n",
    "\n",
    "print(\"Train Balanced Error Rate = \" + str(BER(pred_train, y_train)))\n",
    "print(\"Valid Balanced Error Rate = \" + str(BER(pred_valid, y_valid)))\n",
    "print(\"Test Balanced Error Rate = \" + str(BER(pred_test, y_test)))\n"
   ]
  },
  {
   "cell_type": "markdown",
   "metadata": {},
   "source": [
    "# 4."
   ]
  },
  {
   "cell_type": "code",
   "execution_count": 118,
   "metadata": {},
   "outputs": [
    {
     "data": {
      "image/png": "[encoded data removed]",
      "text/plain": [
       "<Figure size 432x288 with 1 Axes>"
      ]
     },
     "metadata": {
      "needs_background": "light"
     },
     "output_type": "display_data"
    }
   ],
   "source": [
    "c = 10**(-4)\n",
    "BER_train = []\n",
    "BER_valid = []\n",
    "BER_test = []\n",
    "xplot = []\n",
    "\n",
    "\n",
    "# mod = linear_model.LogisticRegression(C = 100000, class_weight='balanced')\n",
    "# mod.fit(X_train, y_train)\n",
    "# pred_test = mod.predict(X_train)\n",
    "# pred_test  = mod.predict(X_test)\n",
    "# pred_valid = mod.predict(X_valid)\n",
    "# BER_train.append([BER(pred_train, y_train)])\n",
    "# BER_valid.append([BER(pred_valid, y_valid)])\n",
    "# BER_test.append([BER(pred_test, y_test)])\n",
    "# print(BER(pred_train, y_train))\n",
    "\n",
    "while(c <= 10**4):\n",
    "    xplot.append(math.log10(c))\n",
    "    mod = linear_model.LogisticRegression(C = c,  class_weight='balanced')\n",
    "    mod.fit(X_train, y_train)\n",
    "    pred_train = mod.predict(X_train)\n",
    "    pred_test  = mod.predict(X_test)\n",
    "    pred_valid = mod.predict(X_valid)\n",
    "    BER_train.append([BER(pred_train, y_train)])\n",
    "    BER_valid.append([BER(pred_valid, y_valid)])\n",
    "    BER_test.append([BER(pred_test, y_test)])\n",
    "    c *= 10\n",
    "plt.plot(xplot, BER_test, label = 'BER_test')\n",
    "plt.plot(xplot, BER_valid, label = 'BER_valid')\n",
    "plt.plot(xplot, BER_train, label = 'BER_train')\n",
    "plt.legend()\n",
    "plt.show()\n",
    "    "
   ]
  },
  {
   "cell_type": "markdown",
   "metadata": {},
   "source": [
    "I would choose the C with the least validation BER, which is c = 0.1"
   ]
  },
  {
   "cell_type": "markdown",
   "metadata": {},
   "source": [
    "# 6."
   ]
  },
  {
   "cell_type": "code",
   "execution_count": 126,
   "metadata": {},
   "outputs": [
    {
     "name": "stdout",
     "output_type": "stream",
     "text": [
      "Unweighted:  F1 =  0.06896551724137931 F10 =  0.03737971872686898\n",
      "Weighted:  F1 =  0.22784810126582278 F10 =  0.33030523255813954\n"
     ]
    }
   ],
   "source": [
    "weights = [1.0] * len(y_train)\n",
    "mod = linear_model.LogisticRegression(C=1, solver='lbfgs')\n",
    "mod.fit(X_train, y_train, sample_weight=weights)\n",
    "\n",
    "pred_test  = mod.predict(X_test)\n",
    "\n",
    "\n",
    "retrieved = sum(pred_test)\n",
    "relevant = sum(y_test)\n",
    "intersection = sum([y and p for y,p in zip(y_test,pred_test)])\n",
    "\n",
    "precision = intersection / retrieved\n",
    "recall = intersection / relevant\n",
    "F1 = 2 * (precision*recall) / (precision + recall)\n",
    "F10 = 101*(precision*recall)/(100*precision + recall)\n",
    "print(\"Unweighted:  F1 = \", F1 , \"F10 = \" , F10)\n",
    "\n",
    "\n",
    "weights = [10.0 if y == True else 1.0 for y in y_train]\n",
    "mod = linear_model.LogisticRegression(C=1, solver='lbfgs')\n",
    "mod.fit(X_train, y_train, sample_weight=weights)\n",
    "\n",
    "pred_test  = mod.predict(X_test)\n",
    "\n",
    "\n",
    "retrieved = sum(pred_test)\n",
    "relevant = sum(y_test)\n",
    "intersection = sum([y and p for y,p in zip(y_test,pred_test)])\n",
    "\n",
    "precision = intersection / retrieved\n",
    "recall = intersection / relevant\n",
    "F1 = 2 * (precision*recall) / (precision + recall)\n",
    "F10 = 101*(precision*recall)/(100*precision + recall)\n",
    "print(\"Weighted:  F1 = \", F1 , \"F10 = \" , F10)\n",
    "\n"
   ]
  },
  {
   "cell_type": "markdown",
   "metadata": {},
   "source": [
    "I would set True elements' weight to 10.0 and False elemtns' weight to 1.0. F1 and F10 both have a better performance. "
   ]
  },
  {
   "cell_type": "markdown",
   "metadata": {},
   "source": [
    "## 7."
   ]
  },
  {
   "cell_type": "code",
   "execution_count": 127,
   "metadata": {},
   "outputs": [
    {
     "name": "stdout",
     "output_type": "stream",
     "text": [
      "[-4.08225207e-30 -4.94283948e-09 -1.21834927e-07 -7.86819356e-07\n",
      " -4.05306618e-06 -3.83321194e-04  3.29930701e-07 -1.04112602e-06\n",
      " -4.17683662e-06  4.76311062e-07  4.22257664e-09 -1.65632413e-07\n",
      " -1.01368522e-06  3.61901218e-06 -1.04088220e-06 -8.15097322e-06\n",
      " -8.39230607e-07 -4.59587719e-06 -9.51268382e-07 -2.26925419e-07\n",
      " -1.91069285e-05 -1.55106956e-08 -1.42470818e-07 -1.98267534e-07\n",
      " -6.35269500e-07 -4.82926012e-07 -7.53416661e-07  3.25109126e-05\n",
      " -1.84965276e-06 -2.47475652e-06  9.13353971e-07 -2.16220142e-07\n",
      "  4.54327382e-04 -3.36342523e-06  1.18472731e-06 -1.24215699e-07\n",
      "  6.18134441e-07  2.71603829e-03  2.60063039e-07 -1.48609549e-07\n",
      " -2.17385779e-06  3.58640160e-06 -9.51395723e-08 -4.56527324e-05\n",
      " -2.65449035e-05 -3.20037258e-07 -3.28339657e-06  3.02097949e-04\n",
      " -1.84359458e-07 -1.92524093e-07 -3.25124831e-06  5.52632293e-07\n",
      "  1.23491883e-06  1.66384524e-06 -1.88106626e-06 -9.99996075e-01\n",
      " -1.34908723e-07  1.85746447e-07  1.78043768e-07  4.32882650e-07\n",
      "  3.44698665e-05  9.77972129e-06  1.49342259e-04 -4.21071209e-06\n",
      "  8.17443631e-06]\n"
     ]
    }
   ],
   "source": [
    "pca = PCA(n_components=5)\n",
    "pca.fit(X_train)\n",
    "print(pca.components_[0])"
   ]
  },
  {
   "cell_type": "markdown",
   "metadata": {},
   "source": [
    "# 8."
   ]
  },
  {
   "cell_type": "code",
   "execution_count": 128,
   "metadata": {},
   "outputs": [
    {
     "name": "stdout",
     "output_type": "stream",
     "text": [
      "Validation BER\n",
      "0.3336882579118604\n",
      "0.26107660455486537\n",
      "0.25628512274475\n",
      "0.23992901508429454\n",
      "0.19100857734398113\n",
      "0.19032830523513744\n",
      "\n",
      "\n",
      "Test BER\n",
      "0.2876830318690784\n",
      "0.25758727263515224\n",
      "0.1671986624107007\n",
      "0.16377868977048182\n",
      "0.10338450625728335\n",
      "0.09859654456097688\n"
     ]
    }
   ],
   "source": [
    "N = 5\n",
    "print(\"Validation BER\")\n",
    "while (N <= 30):\n",
    "    pca = PCA(n_components=N)\n",
    "    pca.fit(X_valid)\n",
    "    Xpca_valid = numpy.matmul(X_valid, pca.components_.T)\n",
    "    mod = linear_model.LogisticRegression(C=1.0, class_weight='balanced')\n",
    "    mod.fit(Xpca_valid, y_valid)\n",
    "    pred_valid = mod.predict(Xpca_valid)\n",
    "    TP = sum([(p and l) for (p,l) in zip(pred_valid, y_valid)])\n",
    "    FN = sum([(not p and l) for (p,l) in zip(pred_valid, y_valid)])\n",
    "    TN = sum([(not p and not l) for (p,l) in zip(pred_valid, y_valid)])\n",
    "    FP = sum([(p and not l) for (p,l) in zip(pred_valid, y_valid)])\n",
    "    if TP + FN == 0:\n",
    "        TPR = 1\n",
    "    else:\n",
    "        TPR = TP / (TP + FN)\n",
    "    TNR = TN / (TN + FP)\n",
    "    BER = 1 - 1/2 * (TPR + TNR)\n",
    "    N = 5 + N\n",
    "    print(BER)\n",
    "    \n",
    "    \n",
    "print(\"\\n\")\n",
    "N = 5\n",
    "print(\"Test BER\")\n",
    "while (N <= 30):\n",
    "    pca = PCA(n_components=N)\n",
    "    pca.fit(X_test)\n",
    "    Xpca_test = numpy.matmul(X_test, pca.components_.T)\n",
    "    mod = linear_model.LogisticRegression(C=1.0, class_weight='balanced')\n",
    "    mod.fit(Xpca_test, y_test)\n",
    "    pred_test = mod.predict(Xpca_test)\n",
    "    TP = sum([(p and l) for (p,l) in zip(pred_test, y_test)])\n",
    "    FN = sum([(not p and l) for (p,l) in zip(pred_test, y_test)])\n",
    "    TN = sum([(not p and not l) for (p,l) in zip(pred_test, y_test)])\n",
    "    FP = sum([(p and not l) for (p,l) in zip(pred_test, y_test)])\n",
    "    if TP + FN == 0:\n",
    "        TPR = 1\n",
    "    else:\n",
    "        TPR = TP / (TP + FN)\n",
    "    TNR = TN / (TN + FP)\n",
    "    BER = 1 - 1/2 * (TPR + TNR)\n",
    "    N = 5 + N\n",
    "    print(BER)"
   ]
  }
 ],
 "metadata": {
  "kernelspec": {
   "display_name": "Python 3",
   "language": "python",
   "name": "python3"
  },
  "language_info": {
   "codemirror_mode": {
    "name": "ipython",
    "version": 3
   },
   "file_extension": ".py",
   "mimetype": "text/x-python",
   "name": "python",
   "nbconvert_exporter": "python",
   "pygments_lexer": "ipython3",
   "version": "3.7.3"
  }
 },
 "nbformat": 4,
 "nbformat_minor": 2
}
