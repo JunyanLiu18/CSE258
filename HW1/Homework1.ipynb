{
 "cells": [
  {
   "cell_type": "markdown",
   "metadata": {},
   "source": [
    "1."
   ]
  },
  {
   "cell_type": "markdown",
   "metadata": {},
   "source": [
    "1-5 start count number: 4766, 1560, 3147, 9808, 129029"
   ]
  },
  {
   "cell_type": "code",
   "execution_count": 1,
   "metadata": {},
   "outputs": [],
   "source": [
    "import numpy\n",
    "import scipy.optimize\n",
    "import random\n",
    "from matplotlib import pyplot as plt\n",
    "from collections import defaultdict\n",
    "import csv\n",
    "import gzip\n",
    "from sklearn import linear_model"
   ]
  },
  {
   "cell_type": "code",
   "execution_count": 2,
   "metadata": {},
   "outputs": [],
   "source": [
    "path = \"/Users/apple/Desktop/CSE258/amazon_reviews_us_Gift_Card_v1_00.tsv.gz\"\n",
    "c = csv.reader(gzip.open(path, 'rt'), delimiter = '\\t')\n",
    "dataset = []\n",
    "first = True\n",
    "for line in c:\n",
    "    # The first line is the header\n",
    "    if first:\n",
    "        header = line\n",
    "        first = False\n",
    "    else:\n",
    "        d = dict(zip(header, line))\n",
    "        # Convert strings to integers for some fields:\n",
    "        d['star_rating'] = int(d['star_rating'])\n",
    "        d['helpful_votes'] = int(d['helpful_votes'])\n",
    "        d['total_votes'] = int(d['total_votes'])\n",
    "        dataset.append(d)"
   ]
  },
  {
   "cell_type": "code",
   "execution_count": 3,
   "metadata": {
    "scrolled": true
   },
   "outputs": [
    {
     "data": {
      "text/plain": [
       "(4766, 1560, 3147, 9808, 129029)"
      ]
     },
     "execution_count": 3,
     "metadata": {},
     "output_type": "execute_result"
    }
   ],
   "source": [
    "count_1star = [d['star_rating'] == 1 for d in dataset]\n",
    "count_2star = [d['star_rating'] == 2 for d in dataset]\n",
    "count_3star = [d['star_rating'] == 3 for d in dataset]\n",
    "count_4star = [d['star_rating'] == 4 for d in dataset]\n",
    "count_5star = [d['star_rating'] == 5 for d in dataset]\n",
    "sum(count_1star), sum(count_2star), sum(count_3star), sum(count_4star), sum(count_5star)"
   ]
  },
  {
   "cell_type": "markdown",
   "metadata": {},
   "source": [
    "3."
   ]
  },
  {
   "cell_type": "markdown",
   "metadata": {},
   "source": [
    "Each theata means the relevance connected with the parameter.\n",
    "\n",
    "If the coefficient of the feature is positive, it means they are positive correlated. if the coefficient of review length is negative, it means the longer the review length is, the lower tend the star rate would be. "
   ]
  },
  {
   "cell_type": "code",
   "execution_count": 4,
   "metadata": {
    "scrolled": true
   },
   "outputs": [
    {
     "name": "stderr",
     "output_type": "stream",
     "text": [
      "/Users/apple/anaconda3/lib/python3.7/site-packages/ipykernel_launcher.py:12: FutureWarning: `rcond` parameter will change to the default of machine precision times ``max(M, N)`` where M and N are the input matrix dimensions.\n",
      "To use the future default and silence this warning we advise to pass `rcond=None`, to keep using the old, explicitly pass `rcond=-1`.\n",
      "  if sys.path[0] == '':\n"
     ]
    },
    {
     "data": {
      "text/plain": [
       "array([ 4.84503504e+00,  4.98580589e-02, -1.24545526e-03])"
      ]
     },
     "execution_count": 4,
     "metadata": {},
     "output_type": "execute_result"
    }
   ],
   "source": [
    "def feature(datum):\n",
    "\tfeat = [1]\n",
    "\tif datum['verified_purchase'] == \"Y\":\n",
    "\t\tfeat.append(1)\n",
    "\telif datum['verified_purchase'] == \"N\":\n",
    "\t\tfeat.append(0)\n",
    "\tfeat.append(len(datum['review_body']))\n",
    "\treturn feat\n",
    "\n",
    "x = [feature(d) for d in dataset]\n",
    "y = [d['star_rating'] for d in dataset]\n",
    "theata1, residuals, rank, s = numpy.linalg.lstsq(x, y)\n",
    "theata1"
   ]
  },
  {
   "cell_type": "markdown",
   "metadata": {},
   "source": [
    "4."
   ]
  },
  {
   "cell_type": "markdown",
   "metadata": {},
   "source": [
    "When the second feature is not removed, the second feature is not a boolean and it has a deeper correlation with the target, and the first boolean feature would not show detailed correlation with the target, so the first coefficient is relative small. \n",
    "\n",
    "When the second feature is removed, the \"larger\" correlative feature is gone, so there should be a increase in the first coefficient, since it is the only feature that's connected to the target. "
   ]
  },
  {
   "cell_type": "code",
   "execution_count": 5,
   "metadata": {},
   "outputs": [
    {
     "name": "stderr",
     "output_type": "stream",
     "text": [
      "/Users/apple/anaconda3/lib/python3.7/site-packages/ipykernel_launcher.py:11: FutureWarning: `rcond` parameter will change to the default of machine precision times ``max(M, N)`` where M and N are the input matrix dimensions.\n",
      "To use the future default and silence this warning we advise to pass `rcond=None`, to keep using the old, explicitly pass `rcond=-1`.\n",
      "  # This is added back by InteractiveShellApp.init_path()\n"
     ]
    },
    {
     "data": {
      "text/plain": [
       "array([4.578143  , 0.16793392])"
      ]
     },
     "execution_count": 5,
     "metadata": {},
     "output_type": "execute_result"
    }
   ],
   "source": [
    "def feature(datum):\n",
    "\tfeat = [1]\n",
    "\tif datum['verified_purchase'] == \"Y\":\n",
    "\t\tfeat.append(1)\n",
    "\telse:\n",
    "\t\tfeat.append(0)\n",
    "\treturn feat\n",
    "\n",
    "x = [feature(d) for d in dataset]\n",
    "y = [d['star_rating'] for d in dataset]\n",
    "theata2, residuals, rank, s = numpy.linalg.lstsq(x, y)\n",
    "theata2"
   ]
  },
  {
   "cell_type": "markdown",
   "metadata": {},
   "source": [
    "5."
   ]
  },
  {
   "cell_type": "markdown",
   "metadata": {},
   "source": [
    "MSE of training set is 0.6554842196700208\n",
    "MSE of testing set is 0.9723851990302849"
   ]
  },
  {
   "cell_type": "code",
   "execution_count": 6,
   "metadata": {},
   "outputs": [
    {
     "name": "stderr",
     "output_type": "stream",
     "text": [
      "/Users/apple/anaconda3/lib/python3.7/site-packages/ipykernel_launcher.py:13: FutureWarning: `rcond` parameter will change to the default of machine precision times ``max(M, N)`` where M and N are the input matrix dimensions.\n",
      "To use the future default and silence this warning we advise to pass `rcond=None`, to keep using the old, explicitly pass `rcond=-1`.\n",
      "  del sys.path[0]\n"
     ]
    },
    {
     "data": {
      "text/plain": [
       "array([4.43966713, 0.31636878])"
      ]
     },
     "execution_count": 6,
     "metadata": {},
     "output_type": "execute_result"
    }
   ],
   "source": [
    "def split_training(x, a):\n",
    "\treturn x[:int(len(x) * a)]\n",
    "def split_testing(x, a):\n",
    "\treturn x[int(len(x) * a):]\n",
    "\n",
    "\n",
    "x = [feature(d) for d in dataset]\n",
    "x_training = split_training(x, 0.9)\n",
    "x_testing = split_testing(x, 0.9)\n",
    "y = [d['star_rating'] for d in dataset]\n",
    "y_training = split_training(y, 0.9)\n",
    "y_testing = split_testing(y, 0.9)\n",
    "theata3, residuals, rank, s = numpy.linalg.lstsq(x_training, y_training)\n",
    "theata3"
   ]
  },
  {
   "cell_type": "code",
   "execution_count": 7,
   "metadata": {},
   "outputs": [
    {
     "name": "stdout",
     "output_type": "stream",
     "text": [
      "0.6554842196700208 0.9723851990302849\n"
     ]
    }
   ],
   "source": [
    "def mse_calc(x, y, theata):\n",
    "\tcount = 0\n",
    "\tmse = 0\n",
    "\twhile(count < len(x)):\n",
    "\t\tmse += (y[count] - numpy.dot(x[count],theata)) ** 2\n",
    "\t\tcount = count + 1\n",
    "\tmse = mse/len(x)\n",
    "\treturn mse\n",
    "mse_training = mse_calc(x_training, y_training, theata3)\n",
    "mse_testing = mse_calc(x_testing, y_testing, theata3)\n",
    "print(mse_training, mse_testing)"
   ]
  },
  {
   "cell_type": "markdown",
   "metadata": {},
   "source": [
    "7."
   ]
  },
  {
   "cell_type": "markdown",
   "metadata": {},
   "source": [
    "The size of the training set does make a significant difference when the training set is either too large or too small. If the training set is too large, there would be too much data for the input and every data oscillation is taken into account so that the data is overfitted. And if there's too little data, there's not enough information for making a comprehensive prediciton. "
   ]
  },
  {
   "cell_type": "code",
   "execution_count": 8,
   "metadata": {},
   "outputs": [
    {
     "name": "stderr",
     "output_type": "stream",
     "text": [
      "/Users/apple/anaconda3/lib/python3.7/site-packages/ipykernel_launcher.py:11: FutureWarning: `rcond` parameter will change to the default of machine precision times ``max(M, N)`` where M and N are the input matrix dimensions.\n",
      "To use the future default and silence this warning we advise to pass `rcond=None`, to keep using the old, explicitly pass `rcond=-1`.\n",
      "  # This is added back by InteractiveShellApp.init_path()\n"
     ]
    },
    {
     "data": {
      "text/plain": [
       "[<matplotlib.lines.Line2D at 0x1a152d5470>]"
      ]
     },
     "execution_count": 8,
     "metadata": {},
     "output_type": "execute_result"
    },
    {
     "data": {
      "image/png": "[encoded data removed]",
      "text/plain": [
       "<Figure size 432x288 with 1 Axes>"
      ]
     },
     "metadata": {
      "needs_background": "light"
     },
     "output_type": "display_data"
    }
   ],
   "source": [
    "prct = 0.05\n",
    "mse_res_train = []\n",
    "mse_res_test = []\n",
    "xplot = []\n",
    "while (prct <= 0.95):\n",
    "\txplot.append(prct)\n",
    "\tx_training = split_training(x, prct)\n",
    "\tx_testing = split_testing(x, prct)\n",
    "\ty_training = split_training(y, prct)\n",
    "\ty_testing = split_testing(y, prct)\n",
    "\ttheata, residuals, rank, s = numpy.linalg.lstsq(x_training, y_training)\n",
    "\tmse_res_train.append([mse_calc(x_training, y_training, theata)])\n",
    "\tmse_res_test.append([mse_calc(x_testing, y_testing, theata)])\n",
    "\tprct = prct + 0.01\n",
    "\n",
    "plt.plot(xplot, mse_res_train)\n",
    "plt.plot(xplot, mse_res_test)"
   ]
  },
  {
   "cell_type": "markdown",
   "metadata": {},
   "source": [
    "8."
   ]
  },
  {
   "cell_type": "markdown",
   "metadata": {},
   "source": [
    "The prediction accuracy of testing set is 0.5597734475085968, the proportion of positive labels is 0.9122041669476098, and the proportion of positive predictions is 0.9989886049490931"
   ]
  },
  {
   "cell_type": "code",
   "execution_count": 9,
   "metadata": {},
   "outputs": [],
   "source": [
    "def featurea(datum):\n",
    "\tfeat = [1]\n",
    "\tfeat.append(datum['star_rating'])\n",
    "\tfeat.append(len(datum['review_body']))\n",
    "\treturn feat\n",
    "def featureb(datum):\n",
    "\tfeat = []\n",
    "\tif datum['verified_purchase'] == \"Y\":\n",
    "\t\tfeat.append(1)\n",
    "\telif datum['verified_purchase'] == \"N\":\n",
    "\t\tfeat.append(0)\n",
    "\treturn feat"
   ]
  },
  {
   "cell_type": "code",
   "execution_count": 10,
   "metadata": {},
   "outputs": [
    {
     "name": "stderr",
     "output_type": "stream",
     "text": [
      "/Users/apple/anaconda3/lib/python3.7/site-packages/ipykernel_launcher.py:7: FutureWarning: `rcond` parameter will change to the default of machine precision times ``max(M, N)`` where M and N are the input matrix dimensions.\n",
      "To use the future default and silence this warning we advise to pass `rcond=None`, to keep using the old, explicitly pass `rcond=-1`.\n",
      "  import sys\n"
     ]
    },
    {
     "data": {
      "text/plain": [
       "array([[ 8.83876144e-01],\n",
       "       [ 1.72177077e-02],\n",
       "       [-1.24038722e-04]])"
      ]
     },
     "execution_count": 10,
     "metadata": {},
     "output_type": "execute_result"
    }
   ],
   "source": [
    "x = [featurea(d) for d in dataset]\n",
    "y = [featureb(d) for d in dataset]\n",
    "x_training = split_training(x, 0.9)\n",
    "x_testing = split_testing(x, 0.9)\n",
    "y_training = split_training(y, 0.9)\n",
    "y_testing = split_testing(y, 0.9)\n",
    "theata4, residuals, rank, s = numpy.linalg.lstsq(x_training, y_training)\n",
    "theata4"
   ]
  },
  {
   "cell_type": "code",
   "execution_count": 11,
   "metadata": {
    "scrolled": false
   },
   "outputs": [
    {
     "name": "stderr",
     "output_type": "stream",
     "text": [
      "/Users/apple/anaconda3/lib/python3.7/site-packages/sklearn/linear_model/logistic.py:432: FutureWarning: Default solver will be changed to 'lbfgs' in 0.22. Specify a solver to silence this warning.\n",
      "  FutureWarning)\n",
      "/Users/apple/anaconda3/lib/python3.7/site-packages/sklearn/utils/validation.py:724: DataConversionWarning: A column-vector y was passed when a 1d array was expected. Please change the shape of y to (n_samples, ), for example using ravel().\n",
      "  y = column_or_1d(y, warn=True)\n"
     ]
    },
    {
     "data": {
      "text/plain": [
       "LogisticRegression(C=1.0, class_weight=None, dual=False, fit_intercept=True,\n",
       "                   intercept_scaling=1, l1_ratio=None, max_iter=100,\n",
       "                   multi_class='warn', n_jobs=None, penalty='l2',\n",
       "                   random_state=None, solver='warn', tol=0.0001, verbose=0,\n",
       "                   warm_start=False)"
      ]
     },
     "execution_count": 11,
     "metadata": {},
     "output_type": "execute_result"
    }
   ],
   "source": [
    "def flat_list(list):\n",
    "    flat_list = []\n",
    "    for sublist in list:\n",
    "        for item in sublist:\n",
    "            flat_list.append(item)\n",
    "    return flat_list\n",
    "\n",
    "from sklearn import linear_model\n",
    "mod = linear_model.LogisticRegression()\n",
    "mod.fit(x_training, y_training)"
   ]
  },
  {
   "cell_type": "code",
   "execution_count": 12,
   "metadata": {},
   "outputs": [],
   "source": [
    "train_predictions = mod.predict(x_training)\n",
    "test_predictions = mod.predict(x_testing)\n",
    "correct_train_predictions =  train_predictions == flat_list(y_training)\n",
    "correct_test_predictions = test_predictions == flat_list(y_testing)\n",
    "p_train_accuracy = sum(correct_train_predictions)/ len(correct_train_predictions)\n",
    "p_test_accuracy = sum(correct_test_predictions)/ len(correct_test_predictions)"
   ]
  },
  {
   "cell_type": "code",
   "execution_count": 13,
   "metadata": {
    "scrolled": false
   },
   "outputs": [
    {
     "data": {
      "text/plain": [
       "0.5597734475085968"
      ]
     },
     "execution_count": 13,
     "metadata": {},
     "output_type": "execute_result"
    }
   ],
   "source": [
    "p_test_accuracy"
   ]
  },
  {
   "cell_type": "code",
   "execution_count": 14,
   "metadata": {
    "scrolled": true
   },
   "outputs": [
    {
     "data": {
      "text/plain": [
       "0.9122041669476098"
      ]
     },
     "execution_count": 14,
     "metadata": {},
     "output_type": "execute_result"
    }
   ],
   "source": [
    "positive_lable = [\"Y\" in d['verified_purchase'] for d in dataset]\n",
    "positive_lable = sum(positive_lable) * 1.0 / len(positive_lable)\n",
    "positive_lable"
   ]
  },
  {
   "cell_type": "code",
   "execution_count": 15,
   "metadata": {},
   "outputs": [
    {
     "data": {
      "text/plain": [
       "0.9989886049490931"
      ]
     },
     "execution_count": 15,
     "metadata": {},
     "output_type": "execute_result"
    }
   ],
   "source": [
    "positive_test = test_predictions\n",
    "positive_test = sum(positive_test) * 1.0 / len(positive_test)\n",
    "positive_test"
   ]
  },
  {
   "cell_type": "markdown",
   "metadata": {},
   "source": [
    "9."
   ]
  },
  {
   "cell_type": "markdown",
   "metadata": {},
   "source": [
    "I would take the 'helpful_votes' and 'total_votes' feature into account. \n",
    "\n",
    "p(review is verified) ~= sigma(theta0 + theta1 x [star rating] + theta2 x [review length] + theta3 x [helpful votes num]) + theta4 x [total votes]\n",
    "\n",
    "The training set accuracy is 0.9512058076551367 and the testing set accuracy is 0.5601105791922325."
   ]
  },
  {
   "cell_type": "code",
   "execution_count": 16,
   "metadata": {},
   "outputs": [
    {
     "name": "stderr",
     "output_type": "stream",
     "text": [
      "/Users/apple/anaconda3/lib/python3.7/site-packages/ipykernel_launcher.py:22: FutureWarning: `rcond` parameter will change to the default of machine precision times ``max(M, N)`` where M and N are the input matrix dimensions.\n",
      "To use the future default and silence this warning we advise to pass `rcond=None`, to keep using the old, explicitly pass `rcond=-1`.\n"
     ]
    },
    {
     "data": {
      "text/plain": [
       "array([[ 8.86383854e-01],\n",
       "       [ 1.67151219e-02],\n",
       "       [-1.23994456e-04],\n",
       "       [ 4.15450829e-03],\n",
       "       [-3.78389520e-03]])"
      ]
     },
     "execution_count": 16,
     "metadata": {},
     "output_type": "execute_result"
    }
   ],
   "source": [
    "def featurea(datum):\n",
    "\tfeat = [1]\n",
    "\tfeat.append(datum['star_rating'])\n",
    "\tfeat.append(len(datum['review_body']))\n",
    "\tfeat.append(datum['helpful_votes'])\n",
    "\tfeat.append(datum['total_votes']) \n",
    "\treturn feat\n",
    "def featureb(datum):\n",
    "\tfeat = []\n",
    "\tif datum['verified_purchase'] == \"Y\":\n",
    "\t\tfeat.append(1)\n",
    "\telif datum['verified_purchase'] == \"N\":\n",
    "\t\tfeat.append(0)\n",
    "\treturn feat\n",
    "\n",
    "x = [featurea(d) for d in dataset]\n",
    "y = [featureb(d) for d in dataset]\n",
    "x_training = split_training(x, 0.9)\n",
    "x_testing = split_testing(x, 0.9)\n",
    "y_training = split_training(y, 0.9)\n",
    "y_testing = split_testing(y, 0.9)\n",
    "theata5, residuals, rank, s = numpy.linalg.lstsq(x_training, y_training)\n",
    "theata5"
   ]
  },
  {
   "cell_type": "code",
   "execution_count": 17,
   "metadata": {},
   "outputs": [
    {
     "name": "stderr",
     "output_type": "stream",
     "text": [
      "/Users/apple/anaconda3/lib/python3.7/site-packages/sklearn/linear_model/logistic.py:432: FutureWarning: Default solver will be changed to 'lbfgs' in 0.22. Specify a solver to silence this warning.\n",
      "  FutureWarning)\n",
      "/Users/apple/anaconda3/lib/python3.7/site-packages/sklearn/utils/validation.py:724: DataConversionWarning: A column-vector y was passed when a 1d array was expected. Please change the shape of y to (n_samples, ), for example using ravel().\n",
      "  y = column_or_1d(y, warn=True)\n"
     ]
    }
   ],
   "source": [
    "from sklearn import linear_model\n",
    "mod = linear_model.LogisticRegression()\n",
    "mod.fit(x_training, y_training)\n",
    "\n",
    "def flat_list(list):\n",
    "    flat_list = []\n",
    "    for sublist in list:\n",
    "        for item in sublist:\n",
    "            flat_list.append(item)\n",
    "    return flat_list"
   ]
  },
  {
   "cell_type": "code",
   "execution_count": 18,
   "metadata": {},
   "outputs": [],
   "source": [
    "train_predictions = mod.predict(x_training)\n",
    "test_predictions = mod.predict(x_testing)\n",
    "\n",
    "correct_train_predictions =  train_predictions == flat_list(y_training)\n",
    "correct_test_predictions = test_predictions == flat_list(y_testing)\n",
    "p_train_accuracy = sum(correct_train_predictions)/ len(correct_train_predictions)\n",
    "p_test_accuracy = sum(correct_test_predictions)/ len(correct_test_predictions)\n"
   ]
  },
  {
   "cell_type": "code",
   "execution_count": 19,
   "metadata": {},
   "outputs": [
    {
     "data": {
      "text/plain": [
       "0.9512058076551367"
      ]
     },
     "execution_count": 19,
     "metadata": {},
     "output_type": "execute_result"
    }
   ],
   "source": [
    "p_train_accuracy"
   ]
  },
  {
   "cell_type": "code",
   "execution_count": 20,
   "metadata": {},
   "outputs": [
    {
     "data": {
      "text/plain": [
       "0.5601105791922325"
      ]
     },
     "execution_count": 20,
     "metadata": {},
     "output_type": "execute_result"
    }
   ],
   "source": [
    "p_test_accuracy"
   ]
  }
 ],
 "metadata": {
  "kernelspec": {
   "display_name": "Python 3",
   "language": "python",
   "name": "python3"
  },
  "language_info": {
   "codemirror_mode": {
    "name": "ipython",
    "version": 3
   },
   "file_extension": ".py",
   "mimetype": "text/x-python",
   "name": "python",
   "nbconvert_exporter": "python",
   "pygments_lexer": "ipython3",
   "version": "3.7.3"
  }
 },
 "nbformat": 4,
 "nbformat_minor": 2
}
